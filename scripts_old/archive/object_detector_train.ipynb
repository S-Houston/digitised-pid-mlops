{
 "cells": [
  {
   "cell_type": "code",
   "execution_count": null,
   "id": "8bcf306a-cdc7-494f-a638-3751deb5b8f1",
   "metadata": {},
   "outputs": [
    {
     "name": "stdout",
     "output_type": "stream",
     "text": [
      "Python executable: c:\\Users\\Stuart\\anaconda3\\envs\\digitised_pid_mlops\\python.exe\n",
      "CUDA available: True\n",
      "Current device: NVIDIA GeForce RTX 4060 Laptop GPU\n",
      "c:\\Users\\Stuart\\Python\\PID_MLOPS\\digitised-pid-mlops\\yolov5\n",
      "C:/Users/Stuart/Python/PID_MLOPS/digitised-pid-mlops/data/dataset.yaml\n"
     ]
    }
   ],
   "source": [
    "# Description: This script trains the Ultralytics YOLOv5 model on the specified dataset \n",
    "# with the specified hyperparameters and TensorBoard logging enabled.\n",
    "\n",
    "import torch\n",
    "from pathlib import Path\n",
    "import sys\n",
    "\n",
    "# Check if running in a Jupyter notebook\n",
    "print(\"Python executable:\", sys.executable)\n",
    "print(\"CUDA available:\", torch.cuda.is_available())\n",
    "print(\"Current device:\", torch.cuda.get_device_name(torch.cuda.current_device()))\n",
    "\n",
    "# Navigate to the yolov5 directory\n",
    "%cd c:/Users/Stuart/Python/PID_MLOPS/digitised-pid-mlops/yolov5\n",
    "\n",
    "# Define the dataset path \n",
    "dataset_path = r'C:/Users/Stuart/Python/PID_MLOPS/digitised-pid-mlops/data/dataset.yaml'\n",
    "\n",
    "# Print the path to verify (optional)\n",
    "print(dataset_path)\n",
    "\n",
    "# Train the model\n",
    "!c:/Users/Stuart/anaconda3/envs/digitised_pid_mlops/python.exe train.py --weights yolov5m.pt --data {dataset_path} --hyp data/hyps/hyp.scratch-low.yaml --epochs 100 --batch-size 16 --imgsz 448 --device 0\n",
    "\n"
   ]
  },
  {
   "cell_type": "code",
   "execution_count": 1,
   "id": "6e1feaa9",
   "metadata": {},
   "outputs": [
    {
     "name": "stdout",
     "output_type": "stream",
     "text": [
      "Torch: 2.5.1+cu121\n",
      "Torch CUDA: 12.1\n",
      "Torchvision: 0.20.1+cu121\n",
      "Torchaudio: 2.5.1+cu121\n",
      "CUDA available: True\n",
      "0\n",
      "NVIDIA GeForce RTX 4060 Laptop GPU\n"
     ]
    }
   ],
   "source": [
    "import torch\n",
    "import torchvision\n",
    "import torchaudio\n",
    "\n",
    "print(\"Torch:\", torch.__version__)\n",
    "print(\"Torch CUDA:\", torch.version.cuda)\n",
    "print(\"Torchvision:\", torchvision.__version__)\n",
    "print(\"Torchaudio:\", torchaudio.__version__)\n",
    "print(\"CUDA available:\", torch.cuda.is_available())\n",
    "print(torch.cuda.current_device())\n",
    "print(torch.cuda.get_device_name(torch.cuda.current_device()))\n",
    "\n",
    "\n"
   ]
  },
  {
   "cell_type": "code",
   "execution_count": 2,
   "id": "dc5c810a",
   "metadata": {},
   "outputs": [
    {
     "name": "stdout",
     "output_type": "stream",
     "text": [
      "c:\\Users\\Stuart\\anaconda3\\envs\\digitised_pid_mlops\\python.exe\n",
      "C:\\Users\\Stuart\\anaconda3\\python.exe\n",
      "C:\\Users\\Stuart\\anaconda3\\Scripts\\python.bat\n",
      "C:\\Users\\Stuart\\AppData\\Local\\Microsoft\\WindowsApps\\python.exe\n"
     ]
    }
   ],
   "source": [
    "!where python\n"
   ]
  },
  {
   "cell_type": "code",
   "execution_count": 3,
   "id": "12356862-0cd0-43e0-a888-48c3d8032a13",
   "metadata": {},
   "outputs": [
    {
     "name": "stdout",
     "output_type": "stream",
     "text": [
      "Collecting tensorboard\n",
      "  Downloading tensorboard-2.20.0-py3-none-any.whl.metadata (1.8 kB)\n",
      "Collecting absl-py>=0.4 (from tensorboard)\n",
      "  Downloading absl_py-2.3.1-py3-none-any.whl.metadata (3.3 kB)\n",
      "Collecting grpcio>=1.48.2 (from tensorboard)\n",
      "  Downloading grpcio-1.75.1-cp311-cp311-win_amd64.whl.metadata (3.8 kB)\n",
      "Collecting markdown>=2.6.8 (from tensorboard)\n",
      "  Downloading markdown-3.9-py3-none-any.whl.metadata (5.1 kB)\n",
      "Requirement already satisfied: numpy>=1.12.0 in c:\\users\\stuart\\anaconda3\\envs\\digitised_pid_mlops\\lib\\site-packages (from tensorboard) (1.26.4)\n",
      "Requirement already satisfied: packaging in c:\\users\\stuart\\anaconda3\\envs\\digitised_pid_mlops\\lib\\site-packages (from tensorboard) (25.0)\n",
      "Requirement already satisfied: pillow in c:\\users\\stuart\\anaconda3\\envs\\digitised_pid_mlops\\lib\\site-packages (from tensorboard) (11.3.0)\n",
      "Requirement already satisfied: protobuf!=4.24.0,>=3.19.6 in c:\\users\\stuart\\anaconda3\\envs\\digitised_pid_mlops\\lib\\site-packages (from tensorboard) (6.31.1)\n",
      "Requirement already satisfied: setuptools>=41.0.0 in c:\\users\\stuart\\anaconda3\\envs\\digitised_pid_mlops\\lib\\site-packages (from tensorboard) (78.1.1)\n",
      "Collecting tensorboard-data-server<0.8.0,>=0.7.0 (from tensorboard)\n",
      "  Using cached tensorboard_data_server-0.7.2-py3-none-any.whl.metadata (1.1 kB)\n",
      "Requirement already satisfied: werkzeug>=1.0.1 in c:\\users\\stuart\\anaconda3\\envs\\digitised_pid_mlops\\lib\\site-packages (from tensorboard) (3.1.3)\n",
      "Requirement already satisfied: typing-extensions~=4.12 in c:\\users\\stuart\\anaconda3\\envs\\digitised_pid_mlops\\lib\\site-packages (from grpcio>=1.48.2->tensorboard) (4.14.0)\n",
      "Requirement already satisfied: MarkupSafe>=2.1.1 in c:\\users\\stuart\\anaconda3\\envs\\digitised_pid_mlops\\lib\\site-packages (from werkzeug>=1.0.1->tensorboard) (3.0.2)\n",
      "Downloading tensorboard-2.20.0-py3-none-any.whl (5.5 MB)\n",
      "   ---------------------------------------- 0.0/5.5 MB ? eta -:--:--\n",
      "   -------------------- ------------------- 2.9/5.5 MB 21.0 MB/s eta 0:00:01\n",
      "   ---------------------------------------- 5.5/5.5 MB 16.8 MB/s eta 0:00:00\n",
      "Using cached tensorboard_data_server-0.7.2-py3-none-any.whl (2.4 kB)\n",
      "Downloading absl_py-2.3.1-py3-none-any.whl (135 kB)\n",
      "Downloading grpcio-1.75.1-cp311-cp311-win_amd64.whl (4.6 MB)\n",
      "   ---------------------------------------- 0.0/4.6 MB ? eta -:--:--\n",
      "   -------------------------------------- - 4.5/4.6 MB 45.1 MB/s eta 0:00:01\n",
      "   ---------------------------------------- 4.6/4.6 MB 25.6 MB/s eta 0:00:00\n",
      "Downloading markdown-3.9-py3-none-any.whl (107 kB)\n",
      "Installing collected packages: tensorboard-data-server, markdown, grpcio, absl-py, tensorboard\n",
      "\n",
      "   ---------------- ----------------------- 2/5 [grpcio]\n",
      "   ---------------- ----------------------- 2/5 [grpcio]\n",
      "   -------------------------------- ------- 4/5 [tensorboard]\n",
      "   -------------------------------- ------- 4/5 [tensorboard]\n",
      "   -------------------------------- ------- 4/5 [tensorboard]\n",
      "   -------------------------------- ------- 4/5 [tensorboard]\n",
      "   -------------------------------- ------- 4/5 [tensorboard]\n",
      "   ---------------------------------------- 5/5 [tensorboard]\n",
      "\n",
      "Successfully installed absl-py-2.3.1 grpcio-1.75.1 markdown-3.9 tensorboard-2.20.0 tensorboard-data-server-0.7.2\n",
      "Note: you may need to restart the kernel to use updated packages.\n"
     ]
    },
    {
     "data": {
      "text/html": [
       "\n",
       "      <iframe id=\"tensorboard-frame-7441b13b39707968\" width=\"100%\" height=\"800\" frameborder=\"0\">\n",
       "      </iframe>\n",
       "      <script>\n",
       "        (function() {\n",
       "          const frame = document.getElementById(\"tensorboard-frame-7441b13b39707968\");\n",
       "          const url = new URL(\"/\", window.location);\n",
       "          const port = 6006;\n",
       "          if (port) {\n",
       "            url.port = port;\n",
       "          }\n",
       "          frame.src = url;\n",
       "        })();\n",
       "      </script>\n",
       "    "
      ],
      "text/plain": [
       "<IPython.core.display.HTML object>"
      ]
     },
     "metadata": {},
     "output_type": "display_data"
    }
   ],
   "source": [
    "# Install tensorboard if not already installed, then load the extension and start the server\n",
    "%pip install tensorboard\n",
    "\n",
    "%load_ext tensorboard\n",
    "%tensorboard --logdir runs"
   ]
  },
  {
   "cell_type": "code",
   "execution_count": null,
   "id": "7da16c3d-96cc-436b-8efd-9d38e79ae04f",
   "metadata": {},
   "outputs": [],
   "source": []
  }
 ],
 "metadata": {
  "kernelspec": {
   "display_name": "digitised_pid_mlops",
   "language": "python",
   "name": "python3"
  },
  "language_info": {
   "codemirror_mode": {
    "name": "ipython",
    "version": 3
   },
   "file_extension": ".py",
   "mimetype": "text/x-python",
   "name": "python",
   "nbconvert_exporter": "python",
   "pygments_lexer": "ipython3",
   "version": "3.11.13"
  }
 },
 "nbformat": 4,
 "nbformat_minor": 5
}
